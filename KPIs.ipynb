{
 "cells": [
  {
   "cell_type": "code",
   "execution_count": 19,
   "metadata": {},
   "outputs": [],
   "source": [
    "import pandas as pd"
   ]
  },
  {
   "cell_type": "code",
   "execution_count": 20,
   "metadata": {},
   "outputs": [],
   "source": [
    "business = pd.read_csv(\"business.csv\")"
   ]
  },
  {
   "cell_type": "code",
   "execution_count": 21,
   "metadata": {},
   "outputs": [],
   "source": [
    "businessml = business.drop(['name', \"address\", \"latitude\", \"longitude\"], axis=1)"
   ]
  },
  {
   "cell_type": "code",
   "execution_count": 22,
   "metadata": {},
   "outputs": [],
   "source": [
    "# Filtrar las filas que contienen 'Restaurant' o 'Food' en la columna 'categories'\n",
    "businessml = businessml[businessml['categories'].str.contains('Restaurant|Food')]"
   ]
  },
  {
   "cell_type": "code",
   "execution_count": 23,
   "metadata": {},
   "outputs": [],
   "source": [
    "review = pd.read_csv(\"review.csv\")"
   ]
  },
  {
   "cell_type": "code",
   "execution_count": 24,
   "metadata": {},
   "outputs": [],
   "source": [
    "reviewml = review.drop([\"date\"], axis=1)\n"
   ]
  },
  {
   "cell_type": "code",
   "execution_count": 25,
   "metadata": {},
   "outputs": [],
   "source": [
    "# Supongamos que tienes los DataFrames df1 y df2\n",
    "\n",
    "# Obtén los business_id únicos de df1\n",
    "business_ids_businessml = businessml['business_id'].unique()\n",
    "\n",
    "# Filtra los business_id de df2 que están en df1\n",
    "reviewml = reviewml[reviewml['business_id'].isin(business_ids_businessml)]"
   ]
  },
  {
   "cell_type": "code",
   "execution_count": 26,
   "metadata": {},
   "outputs": [],
   "source": [
    "user = pd.read_csv(\"user.csv\")"
   ]
  },
  {
   "cell_type": "code",
   "execution_count": 27,
   "metadata": {},
   "outputs": [],
   "source": [
    "userml = user.drop([\"yelping_since\"], axis=1)"
   ]
  },
  {
   "cell_type": "code",
   "execution_count": 28,
   "metadata": {},
   "outputs": [],
   "source": [
    "# Supongamos que tienes los DataFrames df1 y df2\n",
    "\n",
    "# Obtén los business_id únicos de df1\n",
    "user_ids_reviewml = reviewml['user_id'].unique()\n",
    "\n",
    "# Filtra los business_id de df2 que están en df1\n",
    "userml = userml[userml['user_id'].isin(user_ids_reviewml)]"
   ]
  },
  {
   "cell_type": "code",
   "execution_count": 29,
   "metadata": {},
   "outputs": [],
   "source": [
    "# Función lambda para asignar valores de sentimiento\n",
    "def assign_sentiment(stars):\n",
    "    if stars == 3.0:\n",
    "        return \"neutral\"\n",
    "    elif stars > 3.0:\n",
    "        return \"positivo\"\n",
    "    else:\n",
    "        return \"negativo\"\n",
    "\n",
    "# Agregar nueva columna \"sentiment\" utilizando apply()\n",
    "businessml[\"sentiment\"] = businessml[\"stars\"].apply(lambda x: assign_sentiment(x))"
   ]
  },
  {
   "cell_type": "code",
   "execution_count": 30,
   "metadata": {},
   "outputs": [],
   "source": [
    "# Agregar nueva columna \"sentiment\" utilizando apply()\n",
    "reviewml[\"sentiment\"] = reviewml[\"stars\"].apply(lambda x: assign_sentiment(x))"
   ]
  },
  {
   "cell_type": "code",
   "execution_count": 31,
   "metadata": {},
   "outputs": [],
   "source": [
    "reviewml=reviewml.drop([\"review_id\", \"user_id\"], axis=1)"
   ]
  },
  {
   "cell_type": "code",
   "execution_count": 32,
   "metadata": {},
   "outputs": [],
   "source": [
    "#reviewml.to_csv('reviewml.csv', index=False)\n",
    "#userml.to_csv('userml.csv', index=False)\n",
    "#businessml.to_csv('businessml.csv', index=False)"
   ]
  },
  {
   "cell_type": "code",
   "execution_count": 33,
   "metadata": {},
   "outputs": [],
   "source": [
    "import pandas as pd\n",
    "\n",
    "# Combinar los DataFrames basándose en la columna 'business_id'\n",
    "merged_df = pd.merge(reviewml, businessml, on='business_id')"
   ]
  },
  {
   "cell_type": "code",
   "execution_count": 34,
   "metadata": {},
   "outputs": [],
   "source": [
    "# Cambiar el nombre de la columna 'stars_x' a 'stars_review'\n",
    "merged_df = merged_df.rename(columns={'stars_x': 'stars_review'})\n",
    "\n",
    "# Cambiar el nombre de la columna 'sentiment_x' a 'sentiment_review'\n",
    "merged_df = merged_df.rename(columns={'sentiment_x': 'sentiment_review'})\n",
    "\n",
    "# Cambiar el nombre de la columna 'stars_y' a 'stars_business'\n",
    "merged_df = merged_df.rename(columns={'stars_y': 'stars_business'})\n",
    "\n",
    "# Cambiar el nombre de la columna 'sentiment_y' a 'sentiment_business'\n",
    "merged_df = merged_df.rename(columns={'sentiment_y': 'sentiment_business'})\n",
    "\n",
    "# Cambiar el nombre de la columna 'sentiment_y' a 'sentiment_business'\n",
    "merged_df = merged_df.rename(columns={'text': 'review'})\n"
   ]
  },
  {
   "cell_type": "code",
   "execution_count": 35,
   "metadata": {},
   "outputs": [],
   "source": [
    "merged_df=merged_df.drop([\"useful\", \"funny\", \"cool\",\"business_id\"], axis=1)"
   ]
  },
  {
   "cell_type": "code",
   "execution_count": 36,
   "metadata": {},
   "outputs": [
    {
     "data": {
      "text/html": [
       "<div>\n",
       "<style scoped>\n",
       "    .dataframe tbody tr th:only-of-type {\n",
       "        vertical-align: middle;\n",
       "    }\n",
       "\n",
       "    .dataframe tbody tr th {\n",
       "        vertical-align: top;\n",
       "    }\n",
       "\n",
       "    .dataframe thead th {\n",
       "        text-align: right;\n",
       "    }\n",
       "</style>\n",
       "<table border=\"1\" class=\"dataframe\">\n",
       "  <thead>\n",
       "    <tr style=\"text-align: right;\">\n",
       "      <th></th>\n",
       "      <th>stars_review</th>\n",
       "      <th>review</th>\n",
       "      <th>sentiment_review</th>\n",
       "      <th>city</th>\n",
       "      <th>state</th>\n",
       "      <th>stars_business</th>\n",
       "      <th>review_count</th>\n",
       "      <th>categories</th>\n",
       "      <th>sentiment_business</th>\n",
       "    </tr>\n",
       "  </thead>\n",
       "  <tbody>\n",
       "    <tr>\n",
       "      <th>0</th>\n",
       "      <td>3.0</td>\n",
       "      <td>Had a party of 6 here for hibachi. Our waitres...</td>\n",
       "      <td>neutral</td>\n",
       "      <td>Santa Barbara</td>\n",
       "      <td>CA</td>\n",
       "      <td>3.5</td>\n",
       "      <td>488</td>\n",
       "      <td>Steakhouses, Sushi Bars, Restaurants, Japanese</td>\n",
       "      <td>positivo</td>\n",
       "    </tr>\n",
       "    <tr>\n",
       "      <th>1</th>\n",
       "      <td>1.0</td>\n",
       "      <td>Sat down over a half hour, only miso and drink...</td>\n",
       "      <td>negativo</td>\n",
       "      <td>Santa Barbara</td>\n",
       "      <td>CA</td>\n",
       "      <td>3.5</td>\n",
       "      <td>488</td>\n",
       "      <td>Steakhouses, Sushi Bars, Restaurants, Japanese</td>\n",
       "      <td>positivo</td>\n",
       "    </tr>\n",
       "    <tr>\n",
       "      <th>2</th>\n",
       "      <td>3.0</td>\n",
       "      <td>Not bad. Sushi roll was good but options were ...</td>\n",
       "      <td>neutral</td>\n",
       "      <td>Santa Barbara</td>\n",
       "      <td>CA</td>\n",
       "      <td>3.5</td>\n",
       "      <td>488</td>\n",
       "      <td>Steakhouses, Sushi Bars, Restaurants, Japanese</td>\n",
       "      <td>positivo</td>\n",
       "    </tr>\n",
       "    <tr>\n",
       "      <th>3</th>\n",
       "      <td>5.0</td>\n",
       "      <td>I'm very picky when it comes to Sushi. Quality...</td>\n",
       "      <td>positivo</td>\n",
       "      <td>Santa Barbara</td>\n",
       "      <td>CA</td>\n",
       "      <td>3.5</td>\n",
       "      <td>488</td>\n",
       "      <td>Steakhouses, Sushi Bars, Restaurants, Japanese</td>\n",
       "      <td>positivo</td>\n",
       "    </tr>\n",
       "    <tr>\n",
       "      <th>4</th>\n",
       "      <td>4.0</td>\n",
       "      <td>Even though the sushi masters are not actually...</td>\n",
       "      <td>positivo</td>\n",
       "      <td>Santa Barbara</td>\n",
       "      <td>CA</td>\n",
       "      <td>3.5</td>\n",
       "      <td>488</td>\n",
       "      <td>Steakhouses, Sushi Bars, Restaurants, Japanese</td>\n",
       "      <td>positivo</td>\n",
       "    </tr>\n",
       "    <tr>\n",
       "      <th>...</th>\n",
       "      <td>...</td>\n",
       "      <td>...</td>\n",
       "      <td>...</td>\n",
       "      <td>...</td>\n",
       "      <td>...</td>\n",
       "      <td>...</td>\n",
       "      <td>...</td>\n",
       "      <td>...</td>\n",
       "      <td>...</td>\n",
       "    </tr>\n",
       "    <tr>\n",
       "      <th>27909</th>\n",
       "      <td>3.0</td>\n",
       "      <td>The food is usually tasty but check your order...</td>\n",
       "      <td>neutral</td>\n",
       "      <td>New Port Richey</td>\n",
       "      <td>FL</td>\n",
       "      <td>3.0</td>\n",
       "      <td>15</td>\n",
       "      <td>Restaurants, Chinese</td>\n",
       "      <td>neutral</td>\n",
       "    </tr>\n",
       "    <tr>\n",
       "      <th>27910</th>\n",
       "      <td>1.0</td>\n",
       "      <td>I keep going back for more...I don't know why?...</td>\n",
       "      <td>negativo</td>\n",
       "      <td>Tampa</td>\n",
       "      <td>FL</td>\n",
       "      <td>2.0</td>\n",
       "      <td>21</td>\n",
       "      <td>Food, Donuts, Coffee &amp; Tea</td>\n",
       "      <td>negativo</td>\n",
       "    </tr>\n",
       "    <tr>\n",
       "      <th>27911</th>\n",
       "      <td>4.0</td>\n",
       "      <td>Very very good pizza, as good as it gets.  Sim...</td>\n",
       "      <td>positivo</td>\n",
       "      <td>Land O Lakes</td>\n",
       "      <td>FL</td>\n",
       "      <td>3.0</td>\n",
       "      <td>13</td>\n",
       "      <td>Restaurants, Caterers, Event Planning &amp; Servic...</td>\n",
       "      <td>neutral</td>\n",
       "    </tr>\n",
       "    <tr>\n",
       "      <th>27912</th>\n",
       "      <td>5.0</td>\n",
       "      <td>This is one of the nicest Walgreens locations ...</td>\n",
       "      <td>positivo</td>\n",
       "      <td>New Port Richey</td>\n",
       "      <td>FL</td>\n",
       "      <td>4.0</td>\n",
       "      <td>5</td>\n",
       "      <td>Convenience Stores, Shopping, Drugstores, Food...</td>\n",
       "      <td>positivo</td>\n",
       "    </tr>\n",
       "    <tr>\n",
       "      <th>27913</th>\n",
       "      <td>5.0</td>\n",
       "      <td>We were very excited to visit the J. Wilkes Ta...</td>\n",
       "      <td>positivo</td>\n",
       "      <td>Santa Barbara</td>\n",
       "      <td>CA</td>\n",
       "      <td>4.5</td>\n",
       "      <td>74</td>\n",
       "      <td>Food, Arts &amp; Entertainment, Wine Tasting Room,...</td>\n",
       "      <td>positivo</td>\n",
       "    </tr>\n",
       "  </tbody>\n",
       "</table>\n",
       "<p>27914 rows × 9 columns</p>\n",
       "</div>"
      ],
      "text/plain": [
       "       stars_review                                             review   \n",
       "0               3.0  Had a party of 6 here for hibachi. Our waitres...  \\\n",
       "1               1.0  Sat down over a half hour, only miso and drink...   \n",
       "2               3.0  Not bad. Sushi roll was good but options were ...   \n",
       "3               5.0  I'm very picky when it comes to Sushi. Quality...   \n",
       "4               4.0  Even though the sushi masters are not actually...   \n",
       "...             ...                                                ...   \n",
       "27909           3.0  The food is usually tasty but check your order...   \n",
       "27910           1.0  I keep going back for more...I don't know why?...   \n",
       "27911           4.0  Very very good pizza, as good as it gets.  Sim...   \n",
       "27912           5.0  This is one of the nicest Walgreens locations ...   \n",
       "27913           5.0  We were very excited to visit the J. Wilkes Ta...   \n",
       "\n",
       "      sentiment_review             city state  stars_business  review_count   \n",
       "0              neutral    Santa Barbara    CA             3.5           488  \\\n",
       "1             negativo    Santa Barbara    CA             3.5           488   \n",
       "2              neutral    Santa Barbara    CA             3.5           488   \n",
       "3             positivo    Santa Barbara    CA             3.5           488   \n",
       "4             positivo    Santa Barbara    CA             3.5           488   \n",
       "...                ...              ...   ...             ...           ...   \n",
       "27909          neutral  New Port Richey    FL             3.0            15   \n",
       "27910         negativo            Tampa    FL             2.0            21   \n",
       "27911         positivo     Land O Lakes    FL             3.0            13   \n",
       "27912         positivo  New Port Richey    FL             4.0             5   \n",
       "27913         positivo    Santa Barbara    CA             4.5            74   \n",
       "\n",
       "                                              categories sentiment_business  \n",
       "0         Steakhouses, Sushi Bars, Restaurants, Japanese           positivo  \n",
       "1         Steakhouses, Sushi Bars, Restaurants, Japanese           positivo  \n",
       "2         Steakhouses, Sushi Bars, Restaurants, Japanese           positivo  \n",
       "3         Steakhouses, Sushi Bars, Restaurants, Japanese           positivo  \n",
       "4         Steakhouses, Sushi Bars, Restaurants, Japanese           positivo  \n",
       "...                                                  ...                ...  \n",
       "27909                               Restaurants, Chinese            neutral  \n",
       "27910                         Food, Donuts, Coffee & Tea           negativo  \n",
       "27911  Restaurants, Caterers, Event Planning & Servic...            neutral  \n",
       "27912  Convenience Stores, Shopping, Drugstores, Food...           positivo  \n",
       "27913  Food, Arts & Entertainment, Wine Tasting Room,...           positivo  \n",
       "\n",
       "[27914 rows x 9 columns]"
      ]
     },
     "execution_count": 36,
     "metadata": {},
     "output_type": "execute_result"
    }
   ],
   "source": [
    "merged_df"
   ]
  },
  {
   "cell_type": "code",
   "execution_count": 40,
   "metadata": {},
   "outputs": [],
   "source": [
    "merged_df.to_csv('merged_df.csv')\n"
   ]
  },
  {
   "cell_type": "code",
   "execution_count": 37,
   "metadata": {},
   "outputs": [
    {
     "name": "stdout",
     "output_type": "stream",
     "text": [
      "Lista de ciudades recomendadas:\n",
      "['Carpinteria', 'Goleta', 'Ruskin', 'Safety Harbor', 'Saint Pete Beach', 'Saint Petersburg', 'Seminole', 'South Pasadena', 'Spring Hill', 'St Pete Beach', 'St Petersburg', 'St. Pete Beach', 'St. Petersburg', 'TAMPA', 'Tampa', 'Tampa Bay', 'Tarpon Springs', 'Temple Terrace', 'Thonotosassa', 'Treasure Island', 'Trinity', 'Valrico', 'Wesley Chapel', 'Westchase', 'Wimauma', 'Zephyrhills', 'Reno', 'Sparks', 'Verdi', 'Riverview', 'Port Richey', 'Plant City', 'Holiday', 'Isla Vista', 'Montecito', 'Santa Barbara', 'Apollo Beach', 'Brandon', 'Carrollwood', 'Clearwater', 'Clearwater Beach', 'Dover', 'Dunedin', 'Gulfport', 'Hernando Beach', 'Hudson', 'Pinellas Park', 'Indian Rocks Beach', 'Land O Lakes', \"Land O' Lakes\", 'Land o lakes', 'Largo', 'Lutz', 'Madeira Beach', 'NEW PORT RICHEY', 'New Port Richey', 'Odessa', 'Oldsmar', 'Palm Harbor', 'Virginia City', 'Belleair Bluffs', 'Greater Northdale', 'Hillsborough County', 'North Redington Beach', 'Seffner', 'Sun City Center', 'Lula Lula', 'Fernley']\n"
     ]
    }
   ],
   "source": [
    "import pandas as pd\n",
    "\n",
    "# Cargar el dataframe\n",
    "\n",
    "# Calcular el promedio de sentimientos por ciudad y estado\n",
    "merged_df['sentiment_review'] = merged_df['sentiment_review'].map({'positive': 1, 'neutral': 0, 'negative': -1})\n",
    "city_sentiment = merged_df.groupby(['state', 'city'])['sentiment_review'].mean().reset_index()\n",
    "\n",
    "# Ordenar las ciudades por el promedio de sentimientos descendente\n",
    "city_sentiment_sorted = city_sentiment.sort_values('sentiment_review', ascending=False)\n",
    "\n",
    "# Obtener la lista de ciudades recomendadas\n",
    "recommended_cities = city_sentiment_sorted['city'].tolist()\n",
    "\n",
    "print(\"Lista de ciudades recomendadas:\")\n",
    "print(recommended_cities)\n",
    "\n"
   ]
  },
  {
   "cell_type": "code",
   "execution_count": 38,
   "metadata": {},
   "outputs": [
    {
     "name": "stdout",
     "output_type": "stream",
     "text": [
      "Categorías con mejores reseñas por ciudad:\n",
      "     state           city                                         categories\n",
      "0       CA    Carpinteria                American (Traditional), Restaurants\n",
      "12      CA         Goleta  Acai Bowls, Juice Bars & Smoothies, Ice Cream ...\n",
      "39      CA     Isla Vista  Food, Restaurants, Chinese, Bubble Tea, Vietna...\n",
      "42      CA      Montecito                         Food, Italian, Restaurants\n",
      "45      CA  Santa Barbara  American (New), American (Traditional), Chines...\n",
      "...    ...            ...                                                ...\n",
      "927     NV        Fernley                                  Food Trucks, Food\n",
      "928     NV           Reno     American (New), Burgers, Restaurants, Southern\n",
      "1064    NV         Sparks    American (New), Fast Food, Restaurants, Mexican\n",
      "1096    NV          Verdi                American (Traditional), Restaurants\n",
      "1100    NV  Virginia City  Italian, Seafood, American (Traditional), Stea...\n",
      "\n",
      "[68 rows x 3 columns]\n"
     ]
    }
   ],
   "source": [
    "import pandas as pd\n",
    "\n",
    "\n",
    "# Calcular el promedio de sentimientos por categoría en cada ciudad\n",
    "merged_df['sentiment_review'] = merged_df['sentiment_review'].map({'positive': 1, 'neutral': 0, 'negative': -1})\n",
    "city_category_sentiment = merged_df.groupby(['state', 'city', 'categories'])['sentiment_review'].mean().reset_index()\n",
    "\n",
    "# Ordenar las categorías por el promedio de sentimientos descendente en cada ciudad\n",
    "city_category_sentiment_sorted = city_category_sentiment.sort_values(['state', 'city', 'sentiment_review'], ascending=[True, True, False])\n",
    "city_category_sentiment_sorted.drop_duplicates(subset=['state', 'city'], keep='first', inplace=True)\n",
    "\n",
    "# Obtener las categorías con mejores reseñas en cada ciudad\n",
    "best_categories_by_city = city_category_sentiment_sorted[['state', 'city', 'categories']]\n",
    "\n",
    "print(\"Categorías con mejores reseñas por ciudad:\")\n",
    "print(best_categories_by_city)\n"
   ]
  },
  {
   "cell_type": "code",
   "execution_count": 42,
   "metadata": {},
   "outputs": [
    {
     "name": "stdout",
     "output_type": "stream",
     "text": [
      "Mejores categorías en el estado NV :\n",
      "              city                                         categories\n",
      "0          Fernley                                  Food Trucks, Food\n",
      "1             Reno     American (New), Burgers, Restaurants, Southern\n",
      "137         Sparks    American (New), Fast Food, Restaurants, Mexican\n",
      "169          Verdi                American (Traditional), Restaurants\n",
      "173  Virginia City  Italian, Seafood, American (Traditional), Stea...\n"
     ]
    },
    {
     "name": "stderr",
     "output_type": "stream",
     "text": [
      "C:\\Users\\Jose\\AppData\\Local\\Temp\\ipykernel_5624\\2788684483.py:9: SettingWithCopyWarning: \n",
      "A value is trying to be set on a copy of a slice from a DataFrame.\n",
      "Try using .loc[row_indexer,col_indexer] = value instead\n",
      "\n",
      "See the caveats in the documentation: https://pandas.pydata.org/pandas-docs/stable/user_guide/indexing.html#returning-a-view-versus-a-copy\n",
      "  state_df['sentiment_review'] = state_df['sentiment_review'].map({'positive': 1, 'neutral': 0, 'negative': -1})\n"
     ]
    }
   ],
   "source": [
    "import pandas as pd\n",
    "\n",
    "\n",
    "def get_best_categories_by_state(state):\n",
    "    # Filtrar el dataframe por el estado dado\n",
    "    state_df = merged_df[merged_df['state'] == state]\n",
    "\n",
    "    # Calcular el promedio de sentimientos por categoría en cada ciudad\n",
    "    state_df['sentiment_review'] = state_df['sentiment_review'].map({'positive': 1, 'neutral': 0, 'negative': -1})\n",
    "    city_category_sentiment = state_df.groupby(['state', 'city', 'categories'])['sentiment_review'].mean().reset_index()\n",
    "\n",
    "    # Ordenar las categorías por el promedio de sentimientos descendente en cada ciudad\n",
    "    city_category_sentiment_sorted = city_category_sentiment.sort_values(['state', 'city', 'sentiment_review'], ascending=[True, True, False])\n",
    "    city_category_sentiment_sorted.drop_duplicates(subset=['state', 'city'], keep='first', inplace=True)\n",
    "\n",
    "    # Obtener las categorías con mejores reseñas en cada ciudad\n",
    "    best_categories_by_state = city_category_sentiment_sorted[['city', 'categories']]\n",
    "\n",
    "    return best_categories_by_state\n",
    "\n",
    "# Ejemplo de uso de la función\n",
    "state = 'NV'\n",
    "best_categories = get_best_categories_by_state(state)\n",
    "\n",
    "print(\"Mejores categorías en el estado\", state, \":\")\n",
    "print(best_categories)\n"
   ]
  }
 ],
 "metadata": {
  "kernelspec": {
   "display_name": "Python 3",
   "language": "python",
   "name": "python3"
  },
  "language_info": {
   "codemirror_mode": {
    "name": "ipython",
    "version": 3
   },
   "file_extension": ".py",
   "mimetype": "text/x-python",
   "name": "python",
   "nbconvert_exporter": "python",
   "pygments_lexer": "ipython3",
   "version": "3.11.3"
  },
  "orig_nbformat": 4
 },
 "nbformat": 4,
 "nbformat_minor": 2
}
