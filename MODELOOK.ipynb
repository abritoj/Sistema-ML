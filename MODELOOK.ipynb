{
 "cells": [
  {
   "cell_type": "code",
   "execution_count": 1,
   "metadata": {},
   "outputs": [
    {
     "name": "stdout",
     "output_type": "stream",
     "text": [
      "Ciudad: Mount Vernon\n",
      "Categorías: Asian Fusion, Restaurants\n",
      "-----------------------\n",
      "Ciudad: Mount Vernon\n",
      "Categorías: American (New), Breakfast & Brunch, Bars, Nightlife, Restaurants\n",
      "-----------------------\n",
      "Ciudad: Troy\n",
      "Categorías: Restaurants, French\n",
      "-----------------------\n",
      "Ciudad: Staten Island\n",
      "Categorías: Breakfast & Brunch, American (Traditional), Korean, Restaurants, Gastropubs, Nightlife, Bars, Cocktail Bars\n",
      "-----------------------\n",
      "Ciudad: Syracuse\n",
      "Categorías: Restaurants, American (New)\n",
      "-----------------------\n",
      "Ciudad: Troy\n",
      "Categorías: Restaurants, French\n",
      "-----------------------\n",
      "Ciudad: New Rochelle\n",
      "Categorías: Food, Tacos, Mexican, Latin American, Restaurants, Spanish\n",
      "-----------------------\n",
      "Ciudad: Schenectady\n",
      "Categorías: Restaurants, Cambodian\n",
      "-----------------------\n",
      "Ciudad: Buffalo\n",
      "Categorías: Restaurants, American (New)\n",
      "-----------------------\n",
      "Ciudad: Yonkers\n",
      "Categorías: American (New), Lounges, Nightlife, Cocktail Bars, Bars, Restaurants\n",
      "-----------------------\n"
     ]
    },
    {
     "name": "stderr",
     "output_type": "stream",
     "text": [
      "C:\\Users\\Usuario\\AppData\\Local\\Temp\\ipykernel_9144\\1576122547.py:16: SettingWithCopyWarning: \n",
      "A value is trying to be set on a copy of a slice from a DataFrame.\n",
      "Try using .loc[row_indexer,col_indexer] = value instead\n",
      "\n",
      "See the caveats in the documentation: https://pandas.pydata.org/pandas-docs/stable/user_guide/indexing.html#returning-a-view-versus-a-copy\n",
      "  df_estado['sentiment_score'] = df_estado['review'].apply(lambda x: sia.polarity_scores(x)['compound'])\n"
     ]
    }
   ],
   "source": [
    "import pandas as pd\n",
    "import nltk\n",
    "from nltk.sentiment import SentimentIntensityAnalyzer\n",
    "\n",
    "def obtener_ciudades_con_mejor_review(estado):\n",
    "    # Cargar el DataFrame con los datos de los negocios\n",
    "    df = pd.read_csv('datamodelo5estadossinsentimiento.csv')  # Reemplaza 'ruta_del_archivo.csv' con la ruta real de tu archivo de datos\n",
    "    \n",
    "    # Filtrar el DataFrame por el estado seleccionado\n",
    "    df_estado = df[df['state'].str.lower() == estado.lower()]\n",
    "    \n",
    "    # Inicializar el analizador de sentimientos\n",
    "    sia = SentimentIntensityAnalyzer()\n",
    "    \n",
    "    # Calcular el puntaje de sentimiento para cada revisión\n",
    "    df_estado['sentiment_score'] = df_estado['review'].apply(lambda x: sia.polarity_scores(x)['compound'])\n",
    "    \n",
    "    # Ordenar el DataFrame por puntaje de sentimiento descendente y seleccionar las 10 mejores ciudades\n",
    "    df_top_ciudades = df_estado.sort_values(by='sentiment_score', ascending=False).head(10)\n",
    "    \n",
    "    # Obtener una lista de las ciudades y categorías con las mejores revisiones\n",
    "    lista_ciudades_categorias = df_top_ciudades[['city', 'categories']].values.tolist()\n",
    "    \n",
    "    return lista_ciudades_categorias\n",
    "\n",
    "# Ejemplo de uso\n",
    "estado_seleccionado = 'NY'  # Reemplaza con el estado deseado en minúsculas ('NY', 'CA', 'HI', 'NV', 'FL')\n",
    "lista_ciudades_categorias = obtener_ciudades_con_mejor_review(estado_seleccionado)\n",
    "\n",
    "# Imprimir la lista de ciudades y categorías con las mejores revisiones\n",
    "for ciudad, categorias in lista_ciudades_categorias:\n",
    "    print(\"Ciudad:\", ciudad)\n",
    "    print(\"Categorías:\", categorias)\n",
    "    print(\"-----------------------\")"
   ]
  }
 ],
 "metadata": {
  "kernelspec": {
   "display_name": "Python 3",
   "language": "python",
   "name": "python3"
  },
  "language_info": {
   "codemirror_mode": {
    "name": "ipython",
    "version": 3
   },
   "file_extension": ".py",
   "mimetype": "text/x-python",
   "name": "python",
   "nbconvert_exporter": "python",
   "pygments_lexer": "ipython3",
   "version": "3.11.2"
  },
  "orig_nbformat": 4
 },
 "nbformat": 4,
 "nbformat_minor": 2
}
